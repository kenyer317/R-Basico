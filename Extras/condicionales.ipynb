{
 "cells": [
  {
   "cell_type": "markdown",
   "id": "532597f2",
   "metadata": {},
   "source": [
    "# Clase: Condicionales"
   ]
  },
  {
   "cell_type": "markdown",
   "id": "19bcb07a",
   "metadata": {},
   "source": [
    "## 1. Crea un programa en R que solicite al usuario una nota (entre 1.0 y 7.0). El programa debe mostrar en pantalla si la nota corresponde a un \"Aprobado\" (nota ≥ 4.0) o \"Reprobado\" (nota < 4.0)."
   ]
  },
  {
   "cell_type": "code",
   "execution_count": 2,
   "id": "17720685",
   "metadata": {},
   "outputs": [
    {
     "name": "stdout",
     "output_type": "stream",
     "text": [
      "Reprobado"
     ]
    }
   ],
   "source": [
    "nota = as.numeric(readline(prompt=\"Ingresa una nota\"))\n",
    "if (nota>=4){\n",
    "  cat(\"Aprobado\")\n",
    "}else{\n",
    "  cat(\"Reprobado\")\n",
    "}"
   ]
  },
  {
   "cell_type": "markdown",
   "id": "6e9d0b84",
   "metadata": {},
   "source": [
    "## 2. Escribe un programa en R que pida al usuario un número y muestre en pantalla si el número es positivo, negativo o cero."
   ]
  },
  {
   "cell_type": "code",
   "execution_count": 5,
   "id": "aec945e1",
   "metadata": {},
   "outputs": [
    {
     "name": "stdout",
     "output_type": "stream",
     "text": [
      "Es cero"
     ]
    }
   ],
   "source": [
    "numero = as.numeric(readline(prompt=\"Ingresa un número\"))\n",
    "if (numero>0){\n",
    "  cat(\"Positivo\")\n",
    "}else if(numero<0){\n",
    "  cat(\"Negativo\")\n",
    "}else{\n",
    "  cat(\"Es cero\")\n",
    "}"
   ]
  },
  {
   "cell_type": "markdown",
   "id": "df70fc92",
   "metadata": {},
   "source": [
    "## 3. Diseña un programa que solicite al usuario un número del 1 al 7 y muestre en pantalla el día de la semana correspondiente. Por ejemplo, si el usuario ingresa 1, debe mostrar “Lunes”; si ingresa 7, debe mostrar “Domingo”."
   ]
  },
  {
   "cell_type": "code",
   "execution_count": 9,
   "id": "088ec31e",
   "metadata": {},
   "outputs": [
    {
     "name": "stdout",
     "output_type": "stream",
     "text": [
      "Número inválido"
     ]
    }
   ],
   "source": [
    "n = as.integer(readline(prompt = \"Ingresa un número entero 1-7\"))\n",
    "if (n==1){\n",
    "  cat(\"Lunes\")\n",
    "}else if(n==2){\n",
    "  cat(\"Martes\")\n",
    "}else if(n==3){\n",
    "  cat(\"Miércoles\")\n",
    "}else if(n==4){\n",
    "  cat(\"Jueves\")\n",
    "}else if(n==5){\n",
    "  cat(\"Viernes\")\n",
    "}else if(n==6){\n",
    "  cat(\"Sábado\")\n",
    "}else if(n==7){\n",
    "  cat(\"Domingo\")\n",
    "}else{\n",
    "  cat(\"Número inválido\")\n",
    "}\n"
   ]
  },
  {
   "cell_type": "code",
   "execution_count": 10,
   "id": "4b2d0b01",
   "metadata": {},
   "outputs": [
    {
     "data": {
      "text/plain": [
       "[1] \"Martes\""
      ]
     },
     "execution_count": null,
     "metadata": {},
     "output_type": "execute_result"
    }
   ],
   "source": [
    "# Otra forma\n",
    "dias = c(\"Lunes\", \"Martes\", \"Miércoles\", \"Jueves\", \"Viernes\", \"Sábado\", \"Domingo\")\n",
    "n1 = n = as.integer(readline(prompt = \"Ingresa un número entero 1-7\"))\n",
    "ifelse(n1>= 1 & n1<=7, dias[n1], \"Inválido\")"
   ]
  },
  {
   "cell_type": "code",
   "execution_count": 12,
   "id": "1ebd41b3",
   "metadata": {},
   "outputs": [
    {
     "data": {
      "text/plain": [
       "[1] TRUE"
      ]
     },
     "execution_count": null,
     "metadata": {},
     "output_type": "execute_result"
    }
   ],
   "source": [
    "x=1\n",
    "y=6\n",
    "(x==1) & (y<8)"
   ]
  }
 ],
 "metadata": {
  "language_info": {
   "name": "r"
  }
 },
 "nbformat": 4,
 "nbformat_minor": 5
}
