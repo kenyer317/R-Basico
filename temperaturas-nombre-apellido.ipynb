{
 "cells": [
  {
   "cell_type": "markdown",
   "id": "4f451ade",
   "metadata": {},
   "source": [
    "# Clase 4: Manipulación básica de vectores"
   ]
  },
  {
   "cell_type": "markdown",
   "id": "46e81018",
   "metadata": {},
   "source": [
    "### 1. Crear vector de `temperaturas`  valores: 12, 15, 14, 16, 11, 13, 15.​"
   ]
  },
  {
   "cell_type": "code",
   "execution_count": null,
   "id": "cb0e99c2",
   "metadata": {},
   "outputs": [],
   "source": []
  },
  {
   "cell_type": "markdown",
   "id": "eb180636",
   "metadata": {},
   "source": [
    "### 2. Mostrar el vector"
   ]
  },
  {
   "cell_type": "code",
   "execution_count": null,
   "id": "ffda098a",
   "metadata": {},
   "outputs": [],
   "source": []
  },
  {
   "cell_type": "markdown",
   "id": "3781cc66",
   "metadata": {},
   "source": [
    "### 3. Cálcular y mostrar temperatura máxima"
   ]
  },
  {
   "cell_type": "code",
   "execution_count": null,
   "id": "a8687ec1",
   "metadata": {},
   "outputs": [],
   "source": []
  },
  {
   "cell_type": "markdown",
   "id": "6b0b55c5",
   "metadata": {},
   "source": [
    "### 4. Calcular y mostrar temperatura mínima"
   ]
  },
  {
   "cell_type": "code",
   "execution_count": null,
   "id": "e939f96e",
   "metadata": {},
   "outputs": [],
   "source": []
  },
  {
   "cell_type": "markdown",
   "id": "181f9eb3",
   "metadata": {},
   "source": [
    "### 5. Calcular y mostrar el promedio"
   ]
  },
  {
   "cell_type": "code",
   "execution_count": null,
   "id": "b1f37202",
   "metadata": {},
   "outputs": [],
   "source": []
  },
  {
   "cell_type": "markdown",
   "id": "c9417c8a",
   "metadata": {},
   "source": [
    "### 6. Mostrar las temperaturas mayores o iguales a 14."
   ]
  },
  {
   "cell_type": "code",
   "execution_count": null,
   "id": "17f0afa9",
   "metadata": {},
   "outputs": [],
   "source": []
  },
  {
   "cell_type": "markdown",
   "id": "0f064755",
   "metadata": {},
   "source": [
    "### 7. Excluir la primera y la última temperatura, calcular y mostrar el promedio de las restantes."
   ]
  },
  {
   "cell_type": "code",
   "execution_count": null,
   "id": "b3e722b3",
   "metadata": {},
   "outputs": [],
   "source": []
  },
  {
   "cell_type": "markdown",
   "id": "6d5e09ff",
   "metadata": {},
   "source": []
  }
 ],
 "metadata": {
  "language_info": {
   "name": "r"
  }
 },
 "nbformat": 4,
 "nbformat_minor": 5
}
