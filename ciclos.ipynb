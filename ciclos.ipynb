{
 "cells": [
  {
   "cell_type": "markdown",
   "id": "36387b82",
   "metadata": {},
   "source": [
    "# **Estrucuturas Cíclicas en R**\n",
    "## **Objetivo**: Repetir acciones con ciclos en R "
   ]
  },
  {
   "cell_type": "markdown",
   "id": "baeac359",
   "metadata": {},
   "source": [
    "### **Sintaxis** de un ciclo **for** en R:\n",
    "```{r}\n",
    "for (variable in secuencia) {\n",
    "  # Código que se repetirá\n",
    "}\n",
    "```\n",
    "\n",
    "### **Sintaxis** de un ciclo **while** en R:\n",
    "\n",
    "```{r}\n",
    "while (condición) {\n",
    "  # Código que se repetirá mientras la condición sea TRUE\n",
    "}\n",
    "```\n",
    "<!-- <span style=\"color:red;\">Este texto está en rojo</span> -->\n"
   ]
  },
  {
   "cell_type": "markdown",
   "id": "781ed4a5",
   "metadata": {},
   "source": [
    "## **Ejercicios Prácticos**"
   ]
  },
  {
   "cell_type": "markdown",
   "id": "f4925531",
   "metadata": {},
   "source": [
    "### **Ejercicio 1**\n",
    "Muestra en pantalla la secuencia de números del 1 a 10. Los números se deben imprimir como se muestra a continuación.\n",
    "\n",
    "```\n",
    "1 \n",
    "2 \n",
    "3 \n",
    "4 \n",
    "5 \n",
    "6 \n",
    "7 \n",
    "8 \n",
    "9 \n",
    "10 \n",
    "```"
   ]
  },
  {
   "cell_type": "code",
   "execution_count": null,
   "id": "10b0bbef",
   "metadata": {},
   "outputs": [],
   "source": []
  },
  {
   "cell_type": "markdown",
   "id": "7d073c0f",
   "metadata": {},
   "source": [
    "### **Ejercicio 2**\n",
    "Considere el vector de nombres\n",
    " ```nombres = c(\"Pedro\", \"Juan\", \"Maria\", \"Daniela\")```\n",
    " Muestre en pantalla la lista de nombres usando un ciclo for. La salida espera es la siguiente:\n",
    " ```\n",
    "Pedro \n",
    "Juan \n",
    "Maria \n",
    "Daniela\n",
    " ```\n"
   ]
  },
  {
   "cell_type": "code",
   "execution_count": null,
   "id": "e1a6c0ff",
   "metadata": {},
   "outputs": [],
   "source": []
  },
  {
   "cell_type": "markdown",
   "id": "abd098e0",
   "metadata": {},
   "source": [
    "### **Ejercicio 3**"
   ]
  },
  {
   "cell_type": "markdown",
   "id": "003922a7",
   "metadata": {},
   "source": [
    "Usando un ciclo hallar el valor de la siguiente suma $$1+2+3+\\cdots+99+100.$$\n"
   ]
  },
  {
   "cell_type": "markdown",
   "id": "ef499862",
   "metadata": {},
   "source": [
    "### **Ejercicio 4**\n",
    "Dadas las variables\n",
    "```\n",
    "usuario =\"pepito\"\n",
    "clave_guardada = \"12345\"\n",
    "```\n",
    "Solicitar al usuario su clave hasta que introduzca la clave correcta. Al finalizar debes saludar al usuario por su nombre."
   ]
  },
  {
   "cell_type": "code",
   "execution_count": null,
   "id": "41cc9f85",
   "metadata": {},
   "outputs": [],
   "source": []
  }
 ],
 "metadata": {
  "language_info": {
   "name": "r"
  }
 },
 "nbformat": 4,
 "nbformat_minor": 5
}
