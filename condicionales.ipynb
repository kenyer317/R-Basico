{
 "cells": [
  {
   "cell_type": "markdown",
   "id": "532597f2",
   "metadata": {},
   "source": [
    "# Clase: Condicionales"
   ]
  },
  {
   "cell_type": "markdown",
   "id": "19bcb07a",
   "metadata": {},
   "source": [
    "## 1. Crea un programa en R que solicite al usuario una nota (entre 1.0 y 7.0). El programa debe mostrar en pantalla si la nota corresponde a un \"Aprobado\" (nota ≥ 4.0) o \"Reprobado\" (nota < 4.0)."
   ]
  },
  {
   "cell_type": "code",
   "execution_count": null,
   "id": "17720685",
   "metadata": {},
   "outputs": [],
   "source": []
  },
  {
   "cell_type": "markdown",
   "id": "6e9d0b84",
   "metadata": {},
   "source": [
    "## 2. Escribe un programa en R que pida al usuario un número y muestre en pantalla si el número es positivo, negativo o cero."
   ]
  },
  {
   "cell_type": "code",
   "execution_count": null,
   "id": "aec945e1",
   "metadata": {},
   "outputs": [],
   "source": []
  },
  {
   "cell_type": "markdown",
   "id": "df70fc92",
   "metadata": {},
   "source": [
    "## 3. Diseña un programa que solicite al usuario un número del 1 al 7 y muestre en pantalla el día de la semana correspondiente. Por ejemplo, si el usuario ingresa 1, debe mostrar “Lunes”; si ingresa 7, debe mostrar “Domingo”."
   ]
  },
  {
   "cell_type": "code",
   "execution_count": null,
   "id": "088ec31e",
   "metadata": {},
   "outputs": [],
   "source": []
  }
 ],
 "metadata": {
  "language_info": {
   "name": "r"
  }
 },
 "nbformat": 4,
 "nbformat_minor": 5
}
